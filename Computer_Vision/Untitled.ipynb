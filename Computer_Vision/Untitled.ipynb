{
 "cells": [
  {
   "cell_type": "code",
   "execution_count": 6,
   "id": "72d1e56e",
   "metadata": {},
   "outputs": [
    {
     "name": "stdout",
     "output_type": "stream",
     "text": [
      "Collecting inference-sdk\n",
      "  Downloading inference_sdk-0.10.0-py3-none-any.whl (30 kB)\n",
      "Collecting backoff>=2.2.0\n",
      "  Downloading backoff-2.2.1-py3-none-any.whl (15 kB)\n",
      "Collecting supervision<1.0.0\n",
      "  Downloading supervision-0.20.0-py3-none-any.whl (110 kB)\n",
      "     ------------------------------------ 111.0/111.0 kB 496.1 kB/s eta 0:00:00\n",
      "Collecting dataclasses-json>=0.6.0\n",
      "  Downloading dataclasses_json-0.6.6-py3-none-any.whl (28 kB)\n",
      "Requirement already satisfied: requests>=2.27.0 in c:\\users\\miche\\anaconda3\\lib\\site-packages (from inference-sdk) (2.28.1)\n",
      "Requirement already satisfied: numpy>=1.20.0 in c:\\users\\miche\\anaconda3\\lib\\site-packages (from inference-sdk) (1.21.5)\n",
      "Collecting opencv-python>=4.8.0.0\n",
      "  Downloading opencv_python-4.9.0.80-cp37-abi3-win_amd64.whl (38.6 MB)\n",
      "     ---------------------------------------- 38.6/38.6 MB 1.2 MB/s eta 0:00:00\n",
      "Collecting aiohttp>=3.9.0\n",
      "  Downloading aiohttp-3.9.5-cp39-cp39-win_amd64.whl (371 kB)\n",
      "     -------------------------------------- 371.6/371.6 kB 1.4 MB/s eta 0:00:00\n",
      "Requirement already satisfied: pillow>=9.0.0 in c:\\users\\miche\\anaconda3\\lib\\site-packages (from inference-sdk) (9.2.0)\n",
      "Collecting aioresponses>=0.7.6\n",
      "  Downloading aioresponses-0.7.6-py2.py3-none-any.whl (11 kB)\n",
      "Collecting py-cpuinfo>=9.0.0\n",
      "  Downloading py_cpuinfo-9.0.0-py3-none-any.whl (22 kB)\n",
      "Collecting yarl<2.0,>=1.0\n",
      "  Downloading yarl-1.9.4-cp39-cp39-win_amd64.whl (76 kB)\n",
      "     -------------------------------------- 76.9/76.9 kB 709.5 kB/s eta 0:00:00\n",
      "Collecting frozenlist>=1.1.1\n",
      "  Downloading frozenlist-1.4.1-cp39-cp39-win_amd64.whl (50 kB)\n",
      "     -------------------------------------- 50.7/50.7 kB 859.8 kB/s eta 0:00:00\n",
      "Collecting aiosignal>=1.1.2\n",
      "  Downloading aiosignal-1.3.1-py3-none-any.whl (7.6 kB)\n",
      "Collecting async-timeout<5.0,>=4.0\n",
      "  Downloading async_timeout-4.0.3-py3-none-any.whl (5.7 kB)\n",
      "Collecting multidict<7.0,>=4.5\n",
      "  Downloading multidict-6.0.5-cp39-cp39-win_amd64.whl (28 kB)\n",
      "Requirement already satisfied: attrs>=17.3.0 in c:\\users\\miche\\anaconda3\\lib\\site-packages (from aiohttp>=3.9.0->inference-sdk) (21.4.0)\n",
      "Collecting marshmallow<4.0.0,>=3.18.0\n",
      "  Downloading marshmallow-3.21.2-py3-none-any.whl (49 kB)\n",
      "     ---------------------------------------- 49.3/49.3 kB 1.3 MB/s eta 0:00:00\n",
      "Collecting typing-inspect<1,>=0.4.0\n",
      "  Downloading typing_inspect-0.9.0-py3-none-any.whl (8.8 kB)\n",
      "Requirement already satisfied: charset-normalizer<3,>=2 in c:\\users\\miche\\anaconda3\\lib\\site-packages (from requests>=2.27.0->inference-sdk) (2.0.4)\n",
      "Requirement already satisfied: urllib3<1.27,>=1.21.1 in c:\\users\\miche\\anaconda3\\lib\\site-packages (from requests>=2.27.0->inference-sdk) (1.26.11)\n",
      "Requirement already satisfied: idna<4,>=2.5 in c:\\users\\miche\\anaconda3\\lib\\site-packages (from requests>=2.27.0->inference-sdk) (3.3)\n",
      "Requirement already satisfied: certifi>=2017.4.17 in c:\\users\\miche\\anaconda3\\lib\\site-packages (from requests>=2.27.0->inference-sdk) (2022.9.14)\n",
      "Collecting scipy<2.0.0,>=1.10.0\n",
      "  Downloading scipy-1.13.0-cp39-cp39-win_amd64.whl (46.2 MB)\n",
      "     ---------------------------------------- 46.2/46.2 MB 1.4 MB/s eta 0:00:00\n",
      "Requirement already satisfied: pyyaml>=5.3 in c:\\users\\miche\\anaconda3\\lib\\site-packages (from supervision<1.0.0->inference-sdk) (6.0)\n",
      "Collecting matplotlib>=3.6.0\n",
      "  Downloading matplotlib-3.9.0-cp39-cp39-win_amd64.whl (7.9 MB)\n",
      "     ---------------------------------------- 7.9/7.9 MB 2.2 MB/s eta 0:00:00\n",
      "Requirement already satisfied: defusedxml<0.8.0,>=0.7.1 in c:\\users\\miche\\anaconda3\\lib\\site-packages (from supervision<1.0.0->inference-sdk) (0.7.1)\n",
      "Collecting opencv-python-headless>=4.5.5.64\n",
      "  Downloading opencv_python_headless-4.9.0.80-cp37-abi3-win_amd64.whl (38.5 MB)\n",
      "     ---------------------------------------- 38.5/38.5 MB 1.4 MB/s eta 0:00:00\n",
      "Collecting pillow>=9.0.0\n",
      "  Downloading pillow-10.3.0-cp39-cp39-win_amd64.whl (2.5 MB)\n",
      "     ---------------------------------------- 2.5/2.5 MB 1.3 MB/s eta 0:00:00\n",
      "Requirement already satisfied: packaging>=17.0 in c:\\users\\miche\\anaconda3\\lib\\site-packages (from marshmallow<4.0.0,>=3.18.0->dataclasses-json>=0.6.0->inference-sdk) (21.3)\n",
      "Collecting contourpy>=1.0.1\n",
      "  Downloading contourpy-1.2.1-cp39-cp39-win_amd64.whl (182 kB)\n",
      "     -------------------------------------- 182.8/182.8 kB 1.6 MB/s eta 0:00:00\n",
      "Requirement already satisfied: fonttools>=4.22.0 in c:\\users\\miche\\anaconda3\\lib\\site-packages (from matplotlib>=3.6.0->supervision<1.0.0->inference-sdk) (4.25.0)\n",
      "Requirement already satisfied: python-dateutil>=2.7 in c:\\users\\miche\\anaconda3\\lib\\site-packages (from matplotlib>=3.6.0->supervision<1.0.0->inference-sdk) (2.8.2)\n",
      "Requirement already satisfied: cycler>=0.10 in c:\\users\\miche\\anaconda3\\lib\\site-packages (from matplotlib>=3.6.0->supervision<1.0.0->inference-sdk) (0.11.0)\n",
      "Requirement already satisfied: pyparsing>=2.3.1 in c:\\users\\miche\\anaconda3\\lib\\site-packages (from matplotlib>=3.6.0->supervision<1.0.0->inference-sdk) (3.0.9)\n",
      "Collecting importlib-resources>=3.2.0\n",
      "  Downloading importlib_resources-6.4.0-py3-none-any.whl (38 kB)\n",
      "Requirement already satisfied: kiwisolver>=1.3.1 in c:\\users\\miche\\anaconda3\\lib\\site-packages (from matplotlib>=3.6.0->supervision<1.0.0->inference-sdk) (1.4.2)\n",
      "Collecting numpy>=1.20.0\n",
      "  Downloading numpy-1.26.4-cp39-cp39-win_amd64.whl (15.8 MB)\n",
      "     ---------------------------------------- 15.8/15.8 MB 1.2 MB/s eta 0:00:00\n",
      "Requirement already satisfied: mypy-extensions>=0.3.0 in c:\\users\\miche\\anaconda3\\lib\\site-packages (from typing-inspect<1,>=0.4.0->dataclasses-json>=0.6.0->inference-sdk) (0.4.3)\n",
      "Requirement already satisfied: typing-extensions>=3.7.4 in c:\\users\\miche\\anaconda3\\lib\\site-packages (from typing-inspect<1,>=0.4.0->dataclasses-json>=0.6.0->inference-sdk) (4.3.0)\n",
      "Requirement already satisfied: zipp>=3.1.0 in c:\\users\\miche\\anaconda3\\lib\\site-packages (from importlib-resources>=3.2.0->matplotlib>=3.6.0->supervision<1.0.0->inference-sdk) (3.8.0)\n",
      "Requirement already satisfied: six>=1.5 in c:\\users\\miche\\anaconda3\\lib\\site-packages (from python-dateutil>=2.7->matplotlib>=3.6.0->supervision<1.0.0->inference-sdk) (1.16.0)\n",
      "Installing collected packages: py-cpuinfo, typing-inspect, pillow, numpy, multidict, importlib-resources, frozenlist, backoff, async-timeout, yarl, scipy, opencv-python-headless, opencv-python, marshmallow, contourpy, aiosignal, matplotlib, dataclasses-json, aiohttp, supervision, aioresponses, inference-sdk\n",
      "  Attempting uninstall: pillow\n",
      "    Found existing installation: Pillow 9.2.0\n",
      "    Uninstalling Pillow-9.2.0:\n",
      "      Successfully uninstalled Pillow-9.2.0\n",
      "  Attempting uninstall: numpy\n",
      "    Found existing installation: numpy 1.21.5\n",
      "    Uninstalling numpy-1.21.5:\n",
      "      Successfully uninstalled numpy-1.21.5\n",
      "  Attempting uninstall: scipy\n",
      "    Found existing installation: scipy 1.9.1\n",
      "    Uninstalling scipy-1.9.1:\n",
      "      Successfully uninstalled scipy-1.9.1\n",
      "  Attempting uninstall: matplotlib\n",
      "    Found existing installation: matplotlib 3.5.2\n",
      "    Uninstalling matplotlib-3.5.2:\n",
      "      Successfully uninstalled matplotlib-3.5.2\n",
      "Successfully installed aiohttp-3.9.5 aioresponses-0.7.6 aiosignal-1.3.1 async-timeout-4.0.3 backoff-2.2.1 contourpy-1.2.1 dataclasses-json-0.6.6 frozenlist-1.4.1 importlib-resources-6.4.0 inference-sdk-0.10.0 marshmallow-3.21.2 matplotlib-3.9.0 multidict-6.0.5 numpy-1.26.4 opencv-python-4.9.0.80 opencv-python-headless-4.9.0.80 pillow-10.3.0 py-cpuinfo-9.0.0 scipy-1.13.0 supervision-0.20.0 typing-inspect-0.9.0 yarl-1.9.4\n",
      "Note: you may need to restart the kernel to use updated packages.\n"
     ]
    },
    {
     "name": "stderr",
     "output_type": "stream",
     "text": [
      "ERROR: pip's dependency resolver does not currently take into account all the packages that are installed. This behaviour is the source of the following dependency conflicts.\n",
      "daal4py 2021.6.0 requires daal==2021.4.0, which is not installed.\n",
      "numba 0.55.1 requires numpy<1.22,>=1.18, but you have numpy 1.26.4 which is incompatible.\n"
     ]
    }
   ],
   "source": [
    "pip install inference-sdk"
   ]
  },
  {
   "cell_type": "code",
   "execution_count": 12,
   "id": "57c58a07",
   "metadata": {},
   "outputs": [
    {
     "ename": "NameError",
     "evalue": "name 'your_image' is not defined",
     "output_type": "error",
     "traceback": [
      "\u001b[1;31m---------------------------------------------------------------------------\u001b[0m",
      "\u001b[1;31mNameError\u001b[0m                                 Traceback (most recent call last)",
      "\u001b[1;32m~\\AppData\\Local\\Temp\\ipykernel_11424\\434220585.py\u001b[0m in \u001b[0;36m<module>\u001b[1;34m\u001b[0m\n\u001b[0;32m      6\u001b[0m )\n\u001b[0;32m      7\u001b[0m \u001b[1;33m\u001b[0m\u001b[0m\n\u001b[1;32m----> 8\u001b[1;33m \u001b[0mresult\u001b[0m \u001b[1;33m=\u001b[0m \u001b[0mCLIENT\u001b[0m\u001b[1;33m.\u001b[0m\u001b[0minfer\u001b[0m\u001b[1;33m(\u001b[0m\u001b[0myour_image\u001b[0m\u001b[1;33m.\u001b[0m\u001b[0mjpg\u001b[0m\u001b[1;33m,\u001b[0m \u001b[0mmodel_id\u001b[0m\u001b[1;33m=\u001b[0m\u001b[1;34m\"food-ingredient-recognition-51ngf/4\"\u001b[0m\u001b[1;33m)\u001b[0m\u001b[1;33m\u001b[0m\u001b[1;33m\u001b[0m\u001b[0m\n\u001b[0m",
      "\u001b[1;31mNameError\u001b[0m: name 'your_image' is not defined"
     ]
    }
   ],
   "source": [
    "from inference_sdk import InferenceHTTPClient\n",
    "\n",
    "CLIENT = InferenceHTTPClient(\n",
    "    api_url=\"https://detect.roboflow.com\",\n",
    "    api_key=\"2dS40Rg8jaJfaMvPoLjc\"\n",
    ")\n",
    "\n",
    "result = CLIENT.infer(your_image.jpg, model_id=\"food-ingredient-recognition-51ngf/4\")\n"
   ]
  },
  {
   "cell_type": "code",
   "execution_count": null,
   "id": "4265f63e",
   "metadata": {},
   "outputs": [],
   "source": []
  }
 ],
 "metadata": {
  "kernelspec": {
   "display_name": "Python 3 (ipykernel)",
   "language": "python",
   "name": "python3"
  },
  "language_info": {
   "codemirror_mode": {
    "name": "ipython",
    "version": 3
   },
   "file_extension": ".py",
   "mimetype": "text/x-python",
   "name": "python",
   "nbconvert_exporter": "python",
   "pygments_lexer": "ipython3",
   "version": "3.9.13"
  }
 },
 "nbformat": 4,
 "nbformat_minor": 5
}
